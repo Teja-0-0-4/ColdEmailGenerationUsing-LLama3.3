{
 "cells": [
  {
   "cell_type": "code",
   "execution_count": 1,
   "id": "fd3e8142-6f5f-4fd8-8ee7-e5e004a5b97c",
   "metadata": {},
   "outputs": [],
   "source": [
    "from langchain_groq import ChatGroq"
   ]
  },
  {
   "cell_type": "code",
   "execution_count": 2,
   "id": "e7a6296a-b85c-4669-889e-c31f488ae26d",
   "metadata": {},
   "outputs": [
    {
     "name": "stdout",
     "output_type": "stream",
     "text": [
      "The first person to land on the moon was Neil Armstrong. He stepped out of the lunar module Eagle and onto the moon's surface on July 20, 1969, during the Apollo 11 mission. Armstrong famously declared, \"That's one small step for man, one giant leap for mankind,\" as he became the first human to set foot on the moon.\n"
     ]
    }
   ],
   "source": [
    "llm = ChatGroq(\n",
    "    temperature=0,\n",
    "    groq_api_key='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',\n",
    "    model_name=\"llama-3.3-70b-versatile\"\n",
    ")\n",
    "response=llm.invoke(\"The first person to land on moon was..\")\n",
    "print(response.content)"
   ]
  },
  {
   "cell_type": "code",
   "execution_count": 4,
   "id": "91cddf3f-585e-4a4d-98eb-c73469c87d69",
   "metadata": {},
   "outputs": [
    {
     "name": "stdout",
     "output_type": "stream",
     "text": [
      "Careers at | Belzabar Software Design India Pvt LtdBelzabar SoftwareHomeServicesAboutAbout UsTeamLife at BelzabarCareersConnectSenior DevOps EngineerSenior Infrastructure EngineerAs a Senior Infrastructure Engineer at BSDI, you will play a key role in bringing important software to market and into widespread use.In this role you will integrate a variety of leading-edge technology stacks in a secure manner, and ensure availability and safety of the production systems at scale. Software security analysis and considerations are a key part of this role.You have a thorough computer science background and experience with full stack software engineering and architecture, and have previously played a key role engineering enterprise-quality projects. You create solutions that are elegant, thoughtful and rigorous.You are hands-on and a team player, and combine camaraderie and mentorship to effectively deliver good functionality with efficient time-to-market. You communicate effectively and accurately.Technically you are capable of taking the lead, and are well-versed with Agile and Scrum development methods. Working in a dev/ops environment is a plus. Balancing between business needs and technical challenges is important. Knowledge of security is very important.Proven skill on various programming languages, and hands-on experience with security aspects, are key for this position.Requirement:Expert in Linux/UNIX, including operating system internals (kernel, filesystems, memory management, processes etc)Good development experience, preferably in a scripting language such as Perl, Python, PHP or RubyGood experience in shell scriptingStrong in networking, with experience in IPv4 and a good knowledge in IPv6Experience in setting up, tweaking, and troubleshooting various types of servers (e.g. Mail, Web, Database, DNS, Proxy, Remote Access, Directory, network servers)Experience in system and network monitoring and alerting systems (nagios, ganglia, snort, …)Thorough understanding of IT security, both theoretical and practicalIn touch with current technology trends, and be aware about recently discovered security vulnerabilitiesNote: We are looking for someone who knows Linux systems and computer science inside and out. Not someone who has done certain routine, clear tasks before, but rather, someone who – when strange things are going on (an attack from an unknown source, some Web traffic failing for unknown reasons, a networking problem, a firewall problem, file recovery, where even the problem isn’t clear) has the comprehensive knowledge and expertise to determine how to swiftly diagnose it and then solve it, using Linux utilities, tools and techniques that most programmers would just not be familiar with. That’s not to suggest that this is what they would spend most of their time doing. As, emergencies like this come infrequently, although they do come and are extremely important to handle skillfully. However, success with the day-to-day work of configuring various systems in a way that will prevent problems depends on the expertise described aboveResponsibility:You will work in a variety of activities including:Infrastructure engineering and production supportAnalysis, integration, configuration, maintenance and oversight of applications, systems, tools and infrastructurePerformance monitoring, tuning and capacity planningResearching and recommending innovative and potentially automated approaches for system administration and operationIdentifying security considerations, needs and solutions rigorously and thoroughlyIdentifying technical solutions to support business needsTroubleshooting complex unstructured problems and recommending solutions across the systems and infrastructureDevelopment of technical documentation and to include system architecture components, technical proposals and recommendationsExperience: At least 6 years of experience in software infrastructure and engineeringQualification: Bachelor’s degree or higher – in Computer Science or similarJob Location: New DelhiTo apply for this position, send us your profile.‍ApplyJoin our team of expertsGet Rewarded withChallenging workKey role in high-profile projectsValuable experience working on cutting edge technologyOpportunity to learn and growHandsome packageName *Email Address *Mobile Number *Position Applying For *\n",
      "\n",
      "Senior DevOps Engineer\n",
      "\n",
      "\n",
      "QA Engineer\n",
      "\n",
      "\n",
      "Front End Developer\n",
      "\n",
      "\n",
      "Lead Engineer/ Architect -Java\n",
      "Total Years ExperienceRelevant Experience (in years)*Current CTC (in lac PA)Notice (in days)Cover LetterUpload FileUpload CV, Max file size 10MB.Uploading...fileuploaded.jpgUpload failed. Max size for files is 10 MB.CloseThank you! Your submission has been received!Oops! Something went wrong while submitting the form.Tell us about your latest challengesCall:  +91-11-45629671, +91-11-25512361NavigationHomeServicesBlogContact© Copyright 2021 Belzabar Software. All rights reserved.Our Investors\n"
     ]
    }
   ],
   "source": [
    "from langchain_community.document_loaders import WebBaseLoader\n",
    "\n",
    "loader = WebBaseLoader(\"https://www.belzabar.com/jobs/senior-infrastructure-engineer-linux\")\n",
    "page_data= loader.load().pop().page_content\n",
    "print(page_data)"
   ]
  },
  {
   "cell_type": "code",
   "execution_count": 11,
   "id": "0a04ffdf-a802-4f2e-ad6e-54b2106bd8e7",
   "metadata": {},
   "outputs": [
    {
     "name": "stdout",
     "output_type": "stream",
     "text": [
      "```json\n",
      "{\n",
      "  \"role\": \"Senior Infrastructure Engineer\",\n",
      "  \"experience\": \"At least 6 years of experience in software infrastructure and engineering\",\n",
      "  \"skills\": [\n",
      "    \"Expert in Linux/UNIX\",\n",
      "    \"Development experience in scripting language such as Perl, Python, PHP or Ruby\",\n",
      "    \"Shell scripting\",\n",
      "    \"Networking with experience in IPv4 and IPv6\",\n",
      "    \"System and network monitoring and alerting systems\",\n",
      "    \"IT security\"\n",
      "  ],\n",
      "  \"description\": \"As a Senior Infrastructure Engineer at BSDI, you will play a key role in bringing important software to market and into widespread use. You will integrate a variety of leading-edge technology stacks in a secure manner, and ensure availability and safety of the production systems at scale.\"\n",
      "}\n",
      "```\n"
     ]
    }
   ],
   "source": [
    "from langchain_core.prompts import PromptTemplate\n",
    "\n",
    "prompt_extract=PromptTemplate.from_template(\n",
    "    \"\"\"\n",
    "    ### SCRAPED TEXT FROM WEBSITE:\n",
    "    {page_data}\n",
    "    ### INSTRUCTION\n",
    "    The scraped text is from the career's page of a website.\n",
    "    Your job is to extract the job postings and return them in JSON formate containing\n",
    "    following keys: \"role\",\"experience\",\"skills\" and \"description\".You have to give the information only once\n",
    "    only return the valid JSON\n",
    "    ### VALID JSON(NO PREAMBLE):\n",
    "    \"\"\"\n",
    ")\n",
    "chain_extract=prompt_extract | llm\n",
    "res=chain_extract.invoke(input={'page_data':page_data})\n",
    "print(res.content)"
   ]
  },
  {
   "cell_type": "code",
   "execution_count": 13,
   "id": "f2f9181e-3bc8-48a6-b1f6-3a2dea7515d0",
   "metadata": {},
   "outputs": [
    {
     "data": {
      "text/plain": [
       "{'role': 'Senior Infrastructure Engineer',\n",
       " 'experience': 'At least 6 years of experience in software infrastructure and engineering',\n",
       " 'skills': ['Expert in Linux/UNIX',\n",
       "  'Development experience in scripting language such as Perl, Python, PHP or Ruby',\n",
       "  'Shell scripting',\n",
       "  'Networking with experience in IPv4 and IPv6',\n",
       "  'System and network monitoring and alerting systems',\n",
       "  'IT security'],\n",
       " 'description': 'As a Senior Infrastructure Engineer at BSDI, you will play a key role in bringing important software to market and into widespread use. You will integrate a variety of leading-edge technology stacks in a secure manner, and ensure availability and safety of the production systems at scale.'}"
      ]
     },
     "execution_count": 13,
     "metadata": {},
     "output_type": "execute_result"
    }
   ],
   "source": [
    "from langchain_core.output_parsers import JsonOutputParser\n",
    "\n",
    "json_parser = JsonOutputParser()\n",
    "json_res = json_parser.parse(res.content)\n",
    "json_res"
   ]
  },
  {
   "cell_type": "code",
   "execution_count": 15,
   "id": "6b8f8069-bfe0-4762-b6ae-975f7dae9ad5",
   "metadata": {},
   "outputs": [
    {
     "data": {
      "text/plain": [
       "dict"
      ]
     },
     "execution_count": 15,
     "metadata": {},
     "output_type": "execute_result"
    }
   ],
   "source": [
    "type(json_res)"
   ]
  },
  {
   "cell_type": "code",
   "execution_count": 18,
   "id": "e9565da5-a737-426d-bf9f-db74f32b0578",
   "metadata": {},
   "outputs": [
    {
     "data": {
      "text/html": [
       "<div>\n",
       "<style scoped>\n",
       "    .dataframe tbody tr th:only-of-type {\n",
       "        vertical-align: middle;\n",
       "    }\n",
       "\n",
       "    .dataframe tbody tr th {\n",
       "        vertical-align: top;\n",
       "    }\n",
       "\n",
       "    .dataframe thead th {\n",
       "        text-align: right;\n",
       "    }\n",
       "</style>\n",
       "<table border=\"1\" class=\"dataframe\">\n",
       "  <thead>\n",
       "    <tr style=\"text-align: right;\">\n",
       "      <th></th>\n",
       "      <th>Techstack</th>\n",
       "      <th>Links</th>\n",
       "    </tr>\n",
       "  </thead>\n",
       "  <tbody>\n",
       "    <tr>\n",
       "      <th>0</th>\n",
       "      <td>React, Node.js, MongoDB</td>\n",
       "      <td>https://example.com/react-portfolio</td>\n",
       "    </tr>\n",
       "    <tr>\n",
       "      <th>1</th>\n",
       "      <td>Angular,.NET, SQL Server</td>\n",
       "      <td>https://example.com/angular-portfolio</td>\n",
       "    </tr>\n",
       "    <tr>\n",
       "      <th>2</th>\n",
       "      <td>Vue.js, Ruby on Rails, PostgreSQL</td>\n",
       "      <td>https://example.com/vue-portfolio</td>\n",
       "    </tr>\n",
       "    <tr>\n",
       "      <th>3</th>\n",
       "      <td>Python, Django, MySQL</td>\n",
       "      <td>https://example.com/python-portfolio</td>\n",
       "    </tr>\n",
       "    <tr>\n",
       "      <th>4</th>\n",
       "      <td>Java, Spring Boot, Oracle</td>\n",
       "      <td>https://example.com/java-portfolio</td>\n",
       "    </tr>\n",
       "    <tr>\n",
       "      <th>5</th>\n",
       "      <td>Flutter, Firebase, GraphQL</td>\n",
       "      <td>https://example.com/flutter-portfolio</td>\n",
       "    </tr>\n",
       "    <tr>\n",
       "      <th>6</th>\n",
       "      <td>WordPress, PHP, MySQL</td>\n",
       "      <td>https://example.com/wordpress-portfolio</td>\n",
       "    </tr>\n",
       "    <tr>\n",
       "      <th>7</th>\n",
       "      <td>Magento, PHP, MySQL</td>\n",
       "      <td>https://example.com/magento-portfolio</td>\n",
       "    </tr>\n",
       "    <tr>\n",
       "      <th>8</th>\n",
       "      <td>React Native, Node.js, MongoDB</td>\n",
       "      <td>https://example.com/react-native-portfolio</td>\n",
       "    </tr>\n",
       "    <tr>\n",
       "      <th>9</th>\n",
       "      <td>iOS, Swift, Core Data</td>\n",
       "      <td>https://example.com/ios-portfolio</td>\n",
       "    </tr>\n",
       "    <tr>\n",
       "      <th>10</th>\n",
       "      <td>Android, Java, Room Persistence</td>\n",
       "      <td>https://example.com/android-portfolio</td>\n",
       "    </tr>\n",
       "    <tr>\n",
       "      <th>11</th>\n",
       "      <td>Kotlin, Android, Firebase</td>\n",
       "      <td>https://example.com/kotlin-android-portfolio</td>\n",
       "    </tr>\n",
       "    <tr>\n",
       "      <th>12</th>\n",
       "      <td>Android TV, Kotlin, Android NDK</td>\n",
       "      <td>https://example.com/android-tv-portfolio</td>\n",
       "    </tr>\n",
       "    <tr>\n",
       "      <th>13</th>\n",
       "      <td>iOS, Swift, ARKit</td>\n",
       "      <td>https://example.com/ios-ar-portfolio</td>\n",
       "    </tr>\n",
       "    <tr>\n",
       "      <th>14</th>\n",
       "      <td>Cross-platform, Xamarin, Azure</td>\n",
       "      <td>https://example.com/xamarin-portfolio</td>\n",
       "    </tr>\n",
       "    <tr>\n",
       "      <th>15</th>\n",
       "      <td>Backend, Kotlin, Spring Boot</td>\n",
       "      <td>https://example.com/kotlin-backend-portfolio</td>\n",
       "    </tr>\n",
       "    <tr>\n",
       "      <th>16</th>\n",
       "      <td>Frontend, TypeScript, Angular</td>\n",
       "      <td>https://example.com/typescript-frontend-portfolio</td>\n",
       "    </tr>\n",
       "    <tr>\n",
       "      <th>17</th>\n",
       "      <td>Full-stack, JavaScript, Express.js</td>\n",
       "      <td>https://example.com/full-stack-js-portfolio</td>\n",
       "    </tr>\n",
       "    <tr>\n",
       "      <th>18</th>\n",
       "      <td>Machine Learning, Python, TensorFlow</td>\n",
       "      <td>https://example.com/ml-python-portfolio</td>\n",
       "    </tr>\n",
       "    <tr>\n",
       "      <th>19</th>\n",
       "      <td>DevOps, Jenkins, Docker</td>\n",
       "      <td>https://example.com/devops-portfolio</td>\n",
       "    </tr>\n",
       "  </tbody>\n",
       "</table>\n",
       "</div>"
      ],
      "text/plain": [
       "                               Techstack  \\\n",
       "0                React, Node.js, MongoDB   \n",
       "1               Angular,.NET, SQL Server   \n",
       "2      Vue.js, Ruby on Rails, PostgreSQL   \n",
       "3                  Python, Django, MySQL   \n",
       "4              Java, Spring Boot, Oracle   \n",
       "5             Flutter, Firebase, GraphQL   \n",
       "6                  WordPress, PHP, MySQL   \n",
       "7                    Magento, PHP, MySQL   \n",
       "8         React Native, Node.js, MongoDB   \n",
       "9                  iOS, Swift, Core Data   \n",
       "10       Android, Java, Room Persistence   \n",
       "11             Kotlin, Android, Firebase   \n",
       "12       Android TV, Kotlin, Android NDK   \n",
       "13                     iOS, Swift, ARKit   \n",
       "14        Cross-platform, Xamarin, Azure   \n",
       "15          Backend, Kotlin, Spring Boot   \n",
       "16         Frontend, TypeScript, Angular   \n",
       "17    Full-stack, JavaScript, Express.js   \n",
       "18  Machine Learning, Python, TensorFlow   \n",
       "19               DevOps, Jenkins, Docker   \n",
       "\n",
       "                                                Links  \n",
       "0                 https://example.com/react-portfolio  \n",
       "1               https://example.com/angular-portfolio  \n",
       "2                   https://example.com/vue-portfolio  \n",
       "3                https://example.com/python-portfolio  \n",
       "4                  https://example.com/java-portfolio  \n",
       "5               https://example.com/flutter-portfolio  \n",
       "6             https://example.com/wordpress-portfolio  \n",
       "7               https://example.com/magento-portfolio  \n",
       "8          https://example.com/react-native-portfolio  \n",
       "9                   https://example.com/ios-portfolio  \n",
       "10              https://example.com/android-portfolio  \n",
       "11       https://example.com/kotlin-android-portfolio  \n",
       "12           https://example.com/android-tv-portfolio  \n",
       "13               https://example.com/ios-ar-portfolio  \n",
       "14              https://example.com/xamarin-portfolio  \n",
       "15       https://example.com/kotlin-backend-portfolio  \n",
       "16  https://example.com/typescript-frontend-portfolio  \n",
       "17        https://example.com/full-stack-js-portfolio  \n",
       "18            https://example.com/ml-python-portfolio  \n",
       "19               https://example.com/devops-portfolio  "
      ]
     },
     "execution_count": 18,
     "metadata": {},
     "output_type": "execute_result"
    }
   ],
   "source": [
    "import pandas as pd\n",
    "\n",
    "df = pd.read_csv(\"links.csv\")\n",
    "df"
   ]
  },
  {
   "cell_type": "code",
   "execution_count": 20,
   "id": "c8e051cb-2fa7-42a0-85c3-ff96fa43d501",
   "metadata": {},
   "outputs": [],
   "source": [
    "import chromadb\n",
    "import uuid \n",
    "\n",
    "## client to store in memory but persistent client to store it in disk\n",
    "client = chromadb.PersistentClient('Vectorstore')\n",
    "collection = client.get_or_create_collection(name=\"portfolio\")\n",
    "\n",
    "if not collection.count():\n",
    "    for _, row in df.iterrows():\n",
    "        collection.add(documents= row[\"Techstack\"],\n",
    "                       metadatas={\"links\":row[\"Links\"]},\n",
    "                       ids=[str(uuid.uuid4())])"
   ]
  },
  {
   "cell_type": "code",
   "execution_count": 23,
   "id": "eead841a-ce7a-41e1-a556-94bcdf554205",
   "metadata": {},
   "outputs": [
    {
     "data": {
      "text/plain": [
       "[[{'links': 'https://example.com/ml-python-portfolio'}],\n",
       " [{'links': 'https://example.com/react-portfolio'}]]"
      ]
     },
     "execution_count": 23,
     "metadata": {},
     "output_type": "execute_result"
    }
   ],
   "source": [
    "links = collection.query(query_texts=[\"Experience in python\",\"Expertise in React\"],n_results=1).get(\"metadatas\")\n",
    "links"
   ]
  },
  {
   "cell_type": "code",
   "execution_count": 25,
   "id": "83534f4e-0809-4027-9dac-aa0843217b14",
   "metadata": {},
   "outputs": [
    {
     "data": {
      "text/plain": [
       "['Expert in Linux/UNIX',\n",
       " 'Development experience in scripting language such as Perl, Python, PHP or Ruby',\n",
       " 'Shell scripting',\n",
       " 'Networking with experience in IPv4 and IPv6',\n",
       " 'System and network monitoring and alerting systems',\n",
       " 'IT security']"
      ]
     },
     "execution_count": 25,
     "metadata": {},
     "output_type": "execute_result"
    }
   ],
   "source": [
    "job = json_res\n",
    "job[\"skills\"]"
   ]
  },
  {
   "cell_type": "code",
   "execution_count": 27,
   "id": "c6c8e4d8-9ab0-4956-8a5f-ee5a5d2a2990",
   "metadata": {},
   "outputs": [
    {
     "name": "stdout",
     "output_type": "stream",
     "text": [
      "Subject: Expert Infrastructure Engineering Solutions for BSDI\n",
      "\n",
      "Dear Hiring Manager,\n",
      "\n",
      "I came across the Senior Infrastructure Engineer role at BSDI and was impressed by the company's commitment to bringing innovative software to market. As a Business Development Executive at Blynk, I'd like to introduce our company's capabilities in providing tailored infrastructure engineering solutions that can support your goals.\n",
      "\n",
      "At Blynk, we specialize in facilitating seamless integration of business processes through automated tools, leveraging our expertise in AI and software consulting. Our team of experts has a proven track record of empowering enterprises with scalable, optimized, and cost-effective solutions. We're confident that our capabilities align with your requirements for a Senior Infrastructure Engineer.\n",
      "\n",
      "Our team excels in Linux/UNIX, scripting languages such as Python, and shell scripting, which are essential for integrating leading-edge technology stacks securely. We also have extensive experience in networking, including IPv4 and IPv6, as well as system and network monitoring and alerting systems. Additionally, our expertise in IT security ensures the availability and safety of production systems at scale.\n",
      "\n",
      "To demonstrate our capabilities, I'd like to share some relevant examples from our portfolio:\n",
      "\n",
      "* Our machine learning expertise using Python can be seen in this project: https://example.com/ml-python-portfolio\n",
      "* Although not directly related to infrastructure engineering, our proficiency in React showcases our ability to work with various technologies and adapt to different project requirements: https://example.com/react-portfolio\n",
      "\n",
      "I'd be delighted to discuss how Blynk can support BSDI's infrastructure engineering needs and explore potential collaboration opportunities. Please feel free to contact me to schedule a call at your convenience.\n",
      "\n",
      "Best regards,\n",
      "\n",
      "Teja Kukatla\n",
      "Business Development Executive\n",
      "Blynk\n"
     ]
    }
   ],
   "source": [
    "prompt_email = PromptTemplate.from_template(\n",
    "        \"\"\"\n",
    "        ### JOB DESCRIPTION:\n",
    "        {job_description}\n",
    "        \n",
    "        ### INSTRUCTION:\n",
    "        You are Teja Kukatla, a business development executive at Blynk. Blynk is an AI & Software Consulting company dedicated to facilitating\n",
    "        the seamless integration of business processes through automated tools. \n",
    "        Over our experience, we have empowered numerous enterprises with tailored solutions, fostering scalability, \n",
    "        process optimization, cost reduction, and heightened overall efficiency. \n",
    "        Your job is to write a cold email to the client regarding the job mentioned above describing the capability of Blynk\n",
    "        in fulfilling their needs.\n",
    "        Also add the most relevant ones from the following links to showcase Blynk's portfolio: {link_list}\n",
    "        Remember you are Teja Kukatla, BDE at blynk. \n",
    "        Do not provide a preamble.\n",
    "        ### EMAIL (NO PREAMBLE):\n",
    "        \n",
    "        \"\"\"\n",
    "        )\n",
    "\n",
    "chain_email = prompt_email | llm\n",
    "res = chain_email.invoke({\"job_description\": str(job), \"link_list\": links})\n",
    "print(res.content)"
   ]
  },
  {
   "cell_type": "code",
   "execution_count": null,
   "id": "73624228-224c-4b07-8fba-fceff939a212",
   "metadata": {},
   "outputs": [],
   "source": []
  }
 ],
 "metadata": {
  "kernelspec": {
   "display_name": "Python 3 (ipykernel)",
   "language": "python",
   "name": "python3"
  },
  "language_info": {
   "codemirror_mode": {
    "name": "ipython",
    "version": 3
   },
   "file_extension": ".py",
   "mimetype": "text/x-python",
   "name": "python",
   "nbconvert_exporter": "python",
   "pygments_lexer": "ipython3",
   "version": "3.12.3"
  }
 },
 "nbformat": 4,
 "nbformat_minor": 5
}
